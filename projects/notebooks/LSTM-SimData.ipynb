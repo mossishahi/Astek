{
 "cells": [
  {
   "cell_type": "markdown",
   "metadata": {},
   "source": [
    "<a herf=\"https://www.kaggle.com/ventureh/fraud-detection-using-keras-lstm-rnn\"> Fraud Detection using Keras LSTM (RNN) <a>"
   ]
  },
  {
   "cell_type": "code",
   "execution_count": 53,
   "metadata": {},
   "outputs": [],
   "source": [
    "import numpy as np\n",
    "import pandas as pd\n",
    "import pickle\n",
    "import os, glob\n",
    "import logging\n",
    "import seaborn as sns"
   ]
  },
  {
   "cell_type": "code",
   "execution_count": 54,
   "metadata": {},
   "outputs": [],
   "source": [
    "from keras import regularizers\n",
    "from keras.models import Sequential\n",
    "from keras.layers import Dense, Dropout\n",
    "from keras.layers.recurrent import LSTM"
   ]
  },
  {
   "cell_type": "code",
   "execution_count": null,
   "metadata": {},
   "outputs": [],
   "source": [
    "from sklearn.model_selection import train_test_split\n",
    "from sklearn.metrics import accuracy_score\n",
    "from sklearn.metrics import precision_score\n",
    "from sklearn.metrics import recall_score\n",
    "from sklearn.metrics import f1_score\n",
    "from sklearn.metrics import cohen_kappa_score\n",
    "from sklearn.metrics import roc_auc_score\n",
    "from sklearn.metrics import confusion_matrix\n",
    "from keras.callbacks import CSVLogger"
   ]
  },
  {
   "cell_type": "code",
   "execution_count": 56,
   "metadata": {},
   "outputs": [],
   "source": [
    "from tqdm import tqdm\n",
    "import matplotlib.pyplot as plt"
   ]
  },
  {
   "cell_type": "code",
   "execution_count": 57,
   "metadata": {},
   "outputs": [
    {
     "data": {
      "text/plain": [
       "'/home/m.shah/projects/models/kaggle-models'"
      ]
     },
     "execution_count": 57,
     "metadata": {},
     "output_type": "execute_result"
    }
   ],
   "source": [
    "path = os.getcwd()\n",
    "path"
   ]
  },
  {
   "cell_type": "markdown",
   "metadata": {},
   "source": [
    "## Loading Data"
   ]
  },
  {
   "cell_type": "code",
   "execution_count": 58,
   "metadata": {},
   "outputs": [],
   "source": [
    "dfs = []\n",
    "\n",
    "for filename in glob.glob(os.path.join(path, \"../../data/simulated-data-raw/\", \"data\", \"*.pkl\")):\n",
    "    with open(filename, 'rb') as f:\n",
    "        temp = pd.read_pickle(f)\n",
    "        dfs.append(temp)\n",
    "df = pd.DataFrame()\n",
    "df = df.append(dfs)"
   ]
  },
  {
   "cell_type": "code",
   "execution_count": 59,
   "metadata": {},
   "outputs": [
    {
     "data": {
      "text/html": [
       "<div>\n",
       "<style scoped>\n",
       "    .dataframe tbody tr th:only-of-type {\n",
       "        vertical-align: middle;\n",
       "    }\n",
       "\n",
       "    .dataframe tbody tr th {\n",
       "        vertical-align: top;\n",
       "    }\n",
       "\n",
       "    .dataframe thead th {\n",
       "        text-align: right;\n",
       "    }\n",
       "</style>\n",
       "<table border=\"1\" class=\"dataframe\">\n",
       "  <thead>\n",
       "    <tr style=\"text-align: right;\">\n",
       "      <th></th>\n",
       "      <th>TRANSACTION_ID</th>\n",
       "      <th>TX_DATETIME</th>\n",
       "      <th>CUSTOMER_ID</th>\n",
       "      <th>TERMINAL_ID</th>\n",
       "      <th>TX_AMOUNT</th>\n",
       "      <th>TX_TIME_SECONDS</th>\n",
       "      <th>TX_TIME_DAYS</th>\n",
       "      <th>TX_FRAUD</th>\n",
       "      <th>TX_FRAUD_SCENARIO</th>\n",
       "    </tr>\n",
       "  </thead>\n",
       "  <tbody>\n",
       "    <tr>\n",
       "      <th>0</th>\n",
       "      <td>0</td>\n",
       "      <td>2018-04-01 00:00:31</td>\n",
       "      <td>596</td>\n",
       "      <td>3156</td>\n",
       "      <td>57.16</td>\n",
       "      <td>31</td>\n",
       "      <td>0</td>\n",
       "      <td>0</td>\n",
       "      <td>0</td>\n",
       "    </tr>\n",
       "    <tr>\n",
       "      <th>1</th>\n",
       "      <td>1</td>\n",
       "      <td>2018-04-01 00:02:10</td>\n",
       "      <td>4961</td>\n",
       "      <td>3412</td>\n",
       "      <td>81.51</td>\n",
       "      <td>130</td>\n",
       "      <td>0</td>\n",
       "      <td>0</td>\n",
       "      <td>0</td>\n",
       "    </tr>\n",
       "    <tr>\n",
       "      <th>2</th>\n",
       "      <td>2</td>\n",
       "      <td>2018-04-01 00:07:56</td>\n",
       "      <td>2</td>\n",
       "      <td>1365</td>\n",
       "      <td>146.00</td>\n",
       "      <td>476</td>\n",
       "      <td>0</td>\n",
       "      <td>0</td>\n",
       "      <td>0</td>\n",
       "    </tr>\n",
       "    <tr>\n",
       "      <th>3</th>\n",
       "      <td>3</td>\n",
       "      <td>2018-04-01 00:09:29</td>\n",
       "      <td>4128</td>\n",
       "      <td>8737</td>\n",
       "      <td>64.49</td>\n",
       "      <td>569</td>\n",
       "      <td>0</td>\n",
       "      <td>0</td>\n",
       "      <td>0</td>\n",
       "    </tr>\n",
       "    <tr>\n",
       "      <th>4</th>\n",
       "      <td>4</td>\n",
       "      <td>2018-04-01 00:10:34</td>\n",
       "      <td>927</td>\n",
       "      <td>9906</td>\n",
       "      <td>50.99</td>\n",
       "      <td>634</td>\n",
       "      <td>0</td>\n",
       "      <td>0</td>\n",
       "      <td>0</td>\n",
       "    </tr>\n",
       "  </tbody>\n",
       "</table>\n",
       "</div>"
      ],
      "text/plain": [
       "   TRANSACTION_ID         TX_DATETIME CUSTOMER_ID TERMINAL_ID  TX_AMOUNT  \\\n",
       "0               0 2018-04-01 00:00:31         596        3156      57.16   \n",
       "1               1 2018-04-01 00:02:10        4961        3412      81.51   \n",
       "2               2 2018-04-01 00:07:56           2        1365     146.00   \n",
       "3               3 2018-04-01 00:09:29        4128        8737      64.49   \n",
       "4               4 2018-04-01 00:10:34         927        9906      50.99   \n",
       "\n",
       "  TX_TIME_SECONDS TX_TIME_DAYS  TX_FRAUD  TX_FRAUD_SCENARIO  \n",
       "0              31            0         0                  0  \n",
       "1             130            0         0                  0  \n",
       "2             476            0         0                  0  \n",
       "3             569            0         0                  0  \n",
       "4             634            0         0                  0  "
      ]
     },
     "execution_count": 59,
     "metadata": {},
     "output_type": "execute_result"
    }
   ],
   "source": [
    "df.head()"
   ]
  },
  {
   "cell_type": "markdown",
   "metadata": {},
   "source": [
    "## Preprocessing"
   ]
  },
  {
   "cell_type": "code",
   "execution_count": 60,
   "metadata": {},
   "outputs": [
    {
     "data": {
      "image/png": "[encoded data removed]",
      "text/plain": [
       "<Figure size 432x288 with 1 Axes>"
      ]
     },
     "metadata": {},
     "output_type": "display_data"
    }
   ],
   "source": [
    "portions = df[\"TX_FRAUD\"].value_counts().to_dict()\n",
    "plt.pie(portions.values(), \n",
    "        portions.keys(),\n",
    "        labels = [\"Normal\", \"Fraud\"], \n",
    "        radius = 2,\n",
    "        autopct='%1.1f%%',\n",
    "       colors = [\"green\", \"yellow\"])\n",
    "plt.show()"
   ]
  },
  {
   "cell_type": "code",
   "execution_count": 1,
   "metadata": {},
   "outputs": [
    {
     "ename": "NameError",
     "evalue": "name 'df' is not defined",
     "output_type": "error",
     "traceback": [
      "\u001b[0;31m---------------------------------------------------------------------------\u001b[0m",
      "\u001b[0;31mNameError\u001b[0m                                 Traceback (most recent call last)",
      "\u001b[0;32m<ipython-input-1-12e474fddd4d>\u001b[0m in \u001b[0;36m<module>\u001b[0;34m\u001b[0m\n\u001b[1;32m      1\u001b[0m \u001b[0mcolumn_names\u001b[0m \u001b[0;34m=\u001b[0m \u001b[0mlist\u001b[0m\u001b[0;34m(\u001b[0m\u001b[0;34m[\u001b[0m\u001b[0;34m'TX_AMOUNT'\u001b[0m\u001b[0;34m]\u001b[0m\u001b[0;34m)\u001b[0m\u001b[0;34m\u001b[0m\u001b[0;34m\u001b[0m\u001b[0m\n\u001b[0;32m----> 2\u001b[0;31m \u001b[0mfrauds\u001b[0m \u001b[0;34m=\u001b[0m \u001b[0mdf\u001b[0m\u001b[0;34m[\u001b[0m\u001b[0mdf\u001b[0m\u001b[0;34m[\u001b[0m\u001b[0;34m'Class'\u001b[0m\u001b[0;34m]\u001b[0m \u001b[0;34m==\u001b[0m \u001b[0;36m1\u001b[0m\u001b[0;34m]\u001b[0m\u001b[0;34m\u001b[0m\u001b[0;34m\u001b[0m\u001b[0m\n\u001b[0m\u001b[1;32m      3\u001b[0m \u001b[0mno_frauds\u001b[0m \u001b[0;34m=\u001b[0m \u001b[0mdf\u001b[0m\u001b[0;34m[\u001b[0m\u001b[0mdf\u001b[0m\u001b[0;34m[\u001b[0m\u001b[0;34m'Class'\u001b[0m\u001b[0;34m]\u001b[0m \u001b[0;34m==\u001b[0m \u001b[0;36m0\u001b[0m\u001b[0;34m]\u001b[0m\u001b[0;34m\u001b[0m\u001b[0;34m\u001b[0m\u001b[0m\n\u001b[1;32m      4\u001b[0m \u001b[0;34m\u001b[0m\u001b[0m\n\u001b[1;32m      5\u001b[0m \u001b[0mplt\u001b[0m\u001b[0;34m.\u001b[0m\u001b[0mfigure\u001b[0m\u001b[0;34m(\u001b[0m\u001b[0;34m)\u001b[0m\u001b[0;34m\u001b[0m\u001b[0;34m\u001b[0m\u001b[0m\n",
      "\u001b[0;31mNameError\u001b[0m: name 'df' is not defined"
     ]
    }
   ],
   "source": [
    "column_names = list(['TX_AMOUNT'])\n",
    "frauds = df[df['Class'] == 1]\n",
    "no_frauds = df[df['Class'] == 0]\n",
    "\n",
    "plt.figure()\n",
    "fig, ax = plt.subplots(8,4,figsize=(16,28))\n",
    "i = 0\n",
    "for feature in column_names:\n",
    "    i += 1\n",
    "    plt.subplot(8,4,i)\n",
    "    sns.kdeplot(frauds[feature])\n",
    "    sns.kdeplot(no_frauds[feature])\n",
    "    plt.xlabel(feature, fontsize=10)\n",
    "    locs, labels = plt.xticks()\n",
    "    plt.tick_params(axis='both', which='major', labelsize=12)\n",
    "plt.show();\n"
   ]
  },
  {
   "cell_type": "code",
   "execution_count": 62,
   "metadata": {},
   "outputs": [],
   "source": [
    "customer_tx_count = df[\"CUSTOMER_ID\"].value_counts().to_dict()"
   ]
  },
  {
   "cell_type": "code",
   "execution_count": 63,
   "metadata": {},
   "outputs": [
    {
     "data": {
      "text/plain": [
       "<AxesSubplot:ylabel='Density'>"
      ]
     },
     "execution_count": 63,
     "metadata": {},
     "output_type": "execute_result"
    },
    {
     "data": {
      "image/png": "[encoded data removed]",
      "text/plain": [
       "<Figure size 432x288 with 1 Axes>"
      ]
     },
     "metadata": {
      "needs_background": "light"
     },
     "output_type": "display_data"
    }
   ],
   "source": [
    "pd.Series(list(customer_tx_count.values())).plot(kind = 'density')"
   ]
  },
  {
   "cell_type": "code",
   "execution_count": 65,
   "metadata": {},
   "outputs": [],
   "source": [
    "class PreProcessor:    \n",
    "    def __init__(self, input_data):\n",
    "        self.data = input_data\n",
    "    \n",
    "    def pre_process(self, \n",
    "                    feature_columns,\n",
    "                    label_columns,\n",
    "                    window_size = 3,\n",
    "                    categoricals = None,\n",
    "                    test_train_split = 0.7,\n",
    "                    imbalanced = False):\n",
    "        \n",
    "        self.window_size = window_size\n",
    "        self.test_train_split = test_train_split\n",
    "        self.data_x = pd.DataFrame(self.data[feature_columns])\n",
    "        self.data_y = pd.DataFrame(self.data[label_columns])\n",
    "        self.n_features = len(feature_columns)\n",
    "        self.n_labels = np.unique(self.data_y)\n",
    "\n",
    "        #OneHotEncoding\n",
    "        if categoricals is not None:\n",
    "            self.encode(categoricals)\n",
    "            with open(\"./log.txt\", 'a') as log:\n",
    "                log.write(\"Categorical features Encoded \\n\")\n",
    "\n",
    "        #Rolling to make X and Y Tensors\n",
    "        print(\"======== Making X and Y Tensors ==========\")\n",
    "        self.x_tensor, self.y_tensor = self.roll(self.window_size)\n",
    "        print(\"Input X by shape:\", self.data_x.shape,\"is rolled to X Tensor: \", self.x_tensor.shape)\n",
    "        with open(\"./log.txt\", 'a') as log:\n",
    "            log.write(\"X and Y tensors are Rolled \\n\")\n",
    "\n",
    "        #Balance Data\n",
    "        if imbalanced:\n",
    "            self.train_idx = self.stratify()\n",
    "            with open(\"./log.txt\", 'a') as log:\n",
    "                log.write(\"Data is Balanced \\n\")\n",
    "        else:\n",
    "            self.train_idx = np.random.choice(self.x_tensor.shape[0], \n",
    "                                          int(self.x_tensor.shape[0]*self.test_train_split), replace=False)\n",
    "                      \n",
    "        self.X_train = self.x_tensor[self.train_idx, :, :]\n",
    "        self.X_test = np.delete(self.x_tensor, self.train_idx, axis=0)\n",
    "        self.y_train = self.y_tensor[self.train_idx, ]\n",
    "        self.y_test = np.delete(self.y_tensor, self.train_idx, axis=0)\n",
    "        with open(\"./log.txt\", 'a') as log:\n",
    "            log.write(\"Preprocessing Done! \\n\")\n",
    "\n",
    "        return self.X_train, self.X_test, self.y_train, self.y_test\n",
    "    \n",
    "    def stratify(self):\n",
    "        print(\"- - - - Balancing Data - - - -\")\n",
    "        y = np.vstack((range(len(self.y_tensor)),self.y_tensor.T)).T\n",
    "        y_anomal = y[y[:,1]==1]\n",
    "        y_normal = y[y[:,1]==0]\n",
    "        y_anomal = y_anomal[np.random.choice(y_anomal.shape[0], max(int(y_anomal.shape[0]*self.test_train_split), 1), replace=False),:]\n",
    "        y_normal = y_normal[np.random.choice(y_normal.shape[0], int(y_normal.shape[0]*self.test_train_split), replace=False),:]\n",
    "        train_idx = np.array(np.hstack((y_anomal[:,0],y_normal[:,0])), dtype='int')\n",
    "        return train_idx\n",
    "            \n",
    "    def encode(self, categoricals):\n",
    "        if categoricals[0] is not None:\n",
    "            self.data_x = pd.get_dummies(self.data_x, columns = categoricals[0])\n",
    "            self.n_features = self.data_x.shape[1]\n",
    "        if categoricals[1] is not None:\n",
    "            self.data_y = pd.get_dummies(self.data_y, columns = categoricals[1])\n",
    "\n",
    "    def roll(self, window_size):\n",
    "        starts = np.array(range(self.data_x.shape[0]-(window_size)))\n",
    "        if os.path.isfile('ix_tensor.pickle'):\n",
    "            print(\"- - - -  X Tensor founded on Drive - - - - \")\n",
    "            print(\"- - - -  Reading X TENSOR - - - - \")\n",
    "            with open('ix_tensor.pickle', 'rb') as file:\n",
    "                ix_tensor = pickle.load(file)\n",
    "            with open('iy_tensor.pickle', 'rb') as file:\n",
    "                iy_tensor = pickle.load(file)\n",
    "        else:\n",
    "            ix_tensor = np.zeros([(self.data_x.shape[0]-(window_size))*window_size, \n",
    "                                  self.n_features], dtype = 'float32')\n",
    "            iy_tensor = np.zeros((0, len(self.n_labels)))\n",
    "            \n",
    "            #Rolling Loop for making ix_tensor\n",
    "            for i in tqdm(range(self.data_x.shape[0]-(window_size))):\n",
    "                s = np.array(self.data_x[i:i+window_size], dtype='float')\n",
    "                ix_tensor[(window_size*i):(window_size*(i+1)), :] = s\n",
    "                iy_tensor = np.vstack((iy_tensor, self.data_y.iloc[i+window_size, ]))\n",
    "            ix_tensor = ix_tensor.reshape(-1, window_size, np.shape(ix_tensor)[1])\n",
    "            print(\"- - - - Writing X Tensor on Drive- - - -\")\n",
    "            with open('ix_tensor.pickle', 'wb') as file:\n",
    "                pickle.dump(ix_tensor, file)\n",
    "            with open('iy_tensor.pickle', 'wb') as file:\n",
    "                pickle.dump(iy_tensor, file)              \n",
    "        return ix_tensor, iy_tensor"
   ]
  },
  {
   "cell_type": "code",
   "execution_count": 66,
   "metadata": {},
   "outputs": [],
   "source": [
    "#Feature Define\n",
    "if \"WEEK_DAY\" not in df.columns:\n",
    "    df.insert(7, \"WEEK_DAY\", df[\"TX_DATETIME\"].apply(lambda x : x.weekday()))\n",
    "\n",
    "#Feature Selection\n",
    "selected_features = [\"CUSTOMER_ID\", \n",
    "                     \"TERMINAL_ID\", \n",
    "                     'TX_AMOUNT', \n",
    "                     'TX_TIME_SECONDS', \n",
    "                     'TX_TIME_DAYS', \n",
    "                     \"WEEK_DAY\"]"
   ]
  },
  {
   "cell_type": "code",
   "execution_count": 16,
   "metadata": {
    "scrolled": true
   },
   "outputs": [
    {
     "name": "stdout",
     "output_type": "stream",
     "text": [
      "======== Making X and Y Tensors ==========\n",
      "- - - -  X Tensor founded on Drive - - - - \n",
      "- - - -  Reading X TENSOR - - - - \n",
      "Input X by shape: (1754155, 12) is rolled to X Tensor:  (1754145, 10, 12)\n",
      "- - - - Balancing Data - - - -\n"
     ]
    }
   ],
   "source": [
    "pre_processor = PreProcessor(df.iloc[:,:9])\n",
    "train_x, test_x, train_y, test_y = pre_processor.pre_process(selected_features, [\"TX_FRAUD\"],\n",
    "                                                             window_size = 10, \n",
    "                                                             categoricals = [[\"WEEK_DAY\"], [\"TX_FRAUD\"]],\n",
    "                                                             imbalanced = True)"
   ]
  },
  {
   "cell_type": "code",
   "execution_count": 20,
   "metadata": {},
   "outputs": [],
   "source": [
    "with open(\"pre_processor.pickle\", 'wb') as preprocessor_file:\n",
    "    pickle.dump(pre_processor, preprocessor_file)"
   ]
  },
  {
   "cell_type": "code",
   "execution_count": 21,
   "metadata": {},
   "outputs": [
    {
     "data": {
      "text/plain": [
       "(1754155, 128, 10)"
      ]
     },
     "execution_count": 21,
     "metadata": {},
     "output_type": "execute_result"
    }
   ],
   "source": [
    "#PARAMS\n",
    "time_window = 128 \n",
    "\n",
    "train_samples, n_features = df.shape[0], df.shape[1]\n",
    "params = train_samples, time_window, n_features\n",
    "\n",
    "# test_samples = test_x.shape[0]\n",
    "# test_params =  test_samples, time_window, n_features\n",
    "\n",
    "\n",
    "params"
   ]
  },
  {
   "cell_type": "markdown",
   "metadata": {},
   "source": [
    "# Models"
   ]
  },
  {
   "cell_type": "markdown",
   "metadata": {},
   "source": [
    "### Model 1: [ 2-layers: LSTM10 , Output2 ]"
   ]
  },
  {
   "cell_type": "code",
   "execution_count": 23,
   "metadata": {},
   "outputs": [],
   "source": [
    "class LSTM_MODEL:\n",
    "    def __init__(self,\n",
    "                 input_shape,\n",
    "                 n_outputs = 1):\n",
    "        #Model Layers\n",
    "        self.model = Sequential()\n",
    "        self.model.add(LSTM(10, input_shape=input_shape,\n",
    "                            kernel_initializer='lecun_uniform', \n",
    "                            activation='relu', \n",
    "                            kernel_regularizer=regularizers.l1(), \n",
    "                            recurrent_regularizer=regularizers.l1(0.01), \n",
    "                            bias_regularizer=None, \n",
    "                            activity_regularizer=None, \n",
    "                            dropout=0.2, recurrent_dropout=0.2))#, return_sequences=True))            \n",
    "        self.model.add(Dropout(0.2))\n",
    "        self.model.add(Dense(n_outputs, \n",
    "                             kernel_initializer='lecun_uniform',\n",
    "                             activation='sigmoid'))\n",
    "        self.model.compile(loss='binary_crossentropy', \n",
    "                           optimizer='adam', \n",
    "                           metrics=['accuracy']) #optimizer='rmsprop'\n",
    "        self.model.build()\n",
    "        print(\"Model Summary: \\n\\n\", self.model.summary())\n",
    "        self.model\n",
    "        \n",
    "    def train(self, train_x, train_y, batch_size = 100, epochs  =1):\n",
    "        result = self.model.fit(train_x,\n",
    "                                train_y, \n",
    "                                batch_size = batch_size, \n",
    "                                epochs = epochs)\n",
    "        return result\n",
    "    \n",
    "#     def evaluate(self, train_x, train_y):\n",
    "#         _, train_loss = self.model.evaluate(train_x, train_y)\n",
    "#         print(\"Train Loss is: %f\" %train_loss)\n",
    "        \n",
    "    def predict(self, test_x):\n",
    "        return self.model.predict(test_x)"
   ]
  },
  {
   "cell_type": "code",
   "execution_count": 39,
   "metadata": {},
   "outputs": [
    {
     "name": "stdout",
     "output_type": "stream",
     "text": [
      "Model: \"sequential_2\"\n",
      "_________________________________________________________________\n",
      "Layer (type)                 Output Shape              Param #   \n",
      "=================================================================\n",
      "lstm_2 (LSTM)                (None, 10)                920       \n",
      "_________________________________________________________________\n",
      "dropout_1 (Dropout)          (None, 10)                0         \n",
      "_________________________________________________________________\n",
      "dense_2 (Dense)              (None, 2)                 22        \n",
      "=================================================================\n",
      "Total params: 942\n",
      "Trainable params: 942\n",
      "Non-trainable params: 0\n",
      "_________________________________________________________________\n",
      "Model Summary: \n",
      "\n",
      " None\n"
     ]
    }
   ],
   "source": [
    "model = LSTM_MODEL(train_x.shape[1:], n_outputs = 2)"
   ]
  },
  {
   "cell_type": "markdown",
   "metadata": {},
   "source": [
    "### Training"
   ]
  },
  {
   "cell_type": "code",
   "execution_count": 326,
   "metadata": {
    "scrolled": true
   },
   "outputs": [
    {
     "name": "stdout",
     "output_type": "stream",
     "text": [
      "Epoch 1/100\n",
      "1228/1228 [==============================] - 105s 85ms/step - loss: 6557.3169 - accuracy: 0.9826\n",
      "Epoch 2/100\n",
      "1228/1228 [==============================] - 104s 85ms/step - loss: 191.3144 - accuracy: 0.9910\n",
      "Epoch 3/100\n",
      "1228/1228 [==============================] - 103s 84ms/step - loss: 108.1547 - accuracy: 0.9907\n",
      "Epoch 4/100\n",
      "1228/1228 [==============================] - 102s 83ms/step - loss: 95.3235 - accuracy: 0.9913\n",
      "Epoch 5/100\n",
      "1228/1228 [==============================] - 110s 89ms/step - loss: 80.9301 - accuracy: 0.9912\n",
      "Epoch 6/100\n",
      "1228/1228 [==============================] - 106s 86ms/step - loss: 71.3151 - accuracy: 0.9911\n",
      "Epoch 7/100\n",
      "1228/1228 [==============================] - 102s 83ms/step - loss: 149.8228 - accuracy: 0.9908\n",
      "Epoch 8/100\n",
      "1228/1228 [==============================] - 103s 84ms/step - loss: 53.3205 - accuracy: 0.9914\n",
      "Epoch 9/100\n",
      "1228/1228 [==============================] - 100s 81ms/step - loss: 46.3172 - accuracy: 0.9915\n",
      "Epoch 10/100\n",
      "1228/1228 [==============================] - 101s 82ms/step - loss: 41.5639 - accuracy: 0.9914\n",
      "Epoch 11/100\n",
      "1228/1228 [==============================] - 107s 87ms/step - loss: 15.9085 - accuracy: 0.9914\n",
      "Epoch 12/100\n",
      "1228/1228 [==============================] - 103s 84ms/step - loss: 9.9266 - accuracy: 0.9915\n",
      "Epoch 13/100\n",
      "1228/1228 [==============================] - 106s 86ms/step - loss: 1.2746 - accuracy: 0.9915\n",
      "Epoch 14/100\n",
      "1228/1228 [==============================] - 113s 92ms/step - loss: 0.8296 - accuracy: 0.9916\n",
      "Epoch 15/100\n",
      "1228/1228 [==============================] - 115s 94ms/step - loss: 0.3881 - accuracy: 0.9916\n",
      "Epoch 16/100\n",
      "1228/1228 [==============================] - 109s 89ms/step - loss: 0.2613 - accuracy: 0.9916\n",
      "Epoch 17/100\n",
      "1228/1228 [==============================] - 107s 87ms/step - loss: 0.1961 - accuracy: 0.9916\n",
      "Epoch 18/100\n",
      "1228/1228 [==============================] - 113s 92ms/step - loss: 0.1715 - accuracy: 0.9916\n",
      "Epoch 19/100\n",
      "1228/1228 [==============================] - 106s 87ms/step - loss: 0.1493 - accuracy: 0.9916\n",
      "Epoch 20/100\n",
      "1228/1228 [==============================] - 105s 86ms/step - loss: 0.1348 - accuracy: 0.9916\n",
      "Epoch 21/100\n",
      "1228/1228 [==============================] - 110s 89ms/step - loss: 0.1270 - accuracy: 0.9914\n",
      "Epoch 22/100\n",
      "1228/1228 [==============================] - 108s 88ms/step - loss: 0.1124 - accuracy: 0.9916\n",
      "Epoch 23/100\n",
      "1228/1228 [==============================] - 108s 88ms/step - loss: 0.1080 - accuracy: 0.9915\n",
      "Epoch 24/100\n",
      "1228/1228 [==============================] - 107s 87ms/step - loss: 0.0763 - accuracy: 0.9916\n",
      "Epoch 25/100\n",
      "1228/1228 [==============================] - 110s 90ms/step - loss: 0.0665 - accuracy: 0.9916\n",
      "Epoch 26/100\n",
      "1228/1228 [==============================] - 113s 92ms/step - loss: 0.0672 - accuracy: 0.9916\n",
      "Epoch 27/100\n",
      "1228/1228 [==============================] - 113s 92ms/step - loss: 0.0632 - accuracy: 0.9916\n",
      "Epoch 28/100\n",
      "1228/1228 [==============================] - 110s 90ms/step - loss: 0.0642 - accuracy: 0.9916\n",
      "Epoch 29/100\n",
      "1228/1228 [==============================] - 108s 88ms/step - loss: 0.0649 - accuracy: 0.9916\n",
      "Epoch 30/100\n",
      "1228/1228 [==============================] - 111s 91ms/step - loss: 0.0555 - accuracy: 0.9916\n",
      "Epoch 96/100\n",
      "1228/1228 [==============================] - 112s 91ms/step - loss: 0.0554 - accuracy: 0.9916\n",
      "Epoch 97/100\n",
      "1228/1228 [==============================] - 109s 89ms/step - loss: 0.0570 - accuracy: 0.9914\n",
      "Epoch 98/100\n",
      "1228/1228 [==============================] - 110s 90ms/step - loss: 0.0584 - accuracy: 0.9916\n",
      "Epoch 99/100\n",
      "1228/1228 [==============================] - 113s 92ms/step - loss: 0.0562 - accuracy: 0.9916\n",
      "Epoch 100/100\n",
      "1228/1228 [==============================] - 113s 92ms/step - loss: 0.0597 - accuracy: 0.9916\n"
     ]
    }
   ],
   "source": [
    "train_history = model.train(train_x, train_y, batch_size=1000, epochs=100)\n",
    "\n",
    "with open(\"model_train_history.pickle\", 'wb') as file:\n",
    "    pickle.dump(train_history.history, file)\n",
    "\n",
    "y_predicted = model.predict(test_x)\n",
    "\n",
    "with open(\"model_y_predicted.pickle\", 'wb') as file:\n",
    "    pickle.dump(y_predicted, file)\n",
    "\n",
    "with open('log.txt', 'a') as log:\n",
    "    log.write(\"ended!\")"
   ]
  },
  {
   "cell_type": "markdown",
   "metadata": {},
   "source": [
    "### Results"
   ]
  },
  {
   "cell_type": "markdown",
   "metadata": {},
   "source": [
    "Accuracy"
   ]
  },
  {
   "cell_type": "code",
   "execution_count": 338,
   "metadata": {},
   "outputs": [
    {
     "data": {
      "text/plain": [
       "[<matplotlib.lines.Line2D at 0x7f1ba31351f0>]"
      ]
     },
     "execution_count": 338,
     "metadata": {},
     "output_type": "execute_result"
    },
    {
     "data": {
      "image/png": "[encoded data removed]",
      "text/plain": [
       "<Figure size 432x288 with 1 Axes>"
      ]
     },
     "metadata": {
      "needs_background": "light"
     },
     "output_type": "display_data"
    }
   ],
   "source": [
    "plt.plot(train_history.history['accuracy'])"
   ]
  },
  {
   "cell_type": "markdown",
   "metadata": {},
   "source": [
    "Loss"
   ]
  },
  {
   "cell_type": "code",
   "execution_count": 343,
   "metadata": {},
   "outputs": [
    {
     "data": {
      "text/plain": [
       "[<matplotlib.lines.Line2D at 0x7f1ba2f14850>]"
      ]
     },
     "execution_count": 343,
     "metadata": {},
     "output_type": "execute_result"
    },
    {
     "data": {
      "image/png": "[encoded data removed]",
      "text/plain": [
       "<Figure size 432x288 with 1 Axes>"
      ]
     },
     "metadata": {
      "needs_background": "light"
     },
     "output_type": "display_data"
    }
   ],
   "source": [
    "plt.plot(train_history.history['loss'], color = 'orange')"
   ]
  },
  {
   "cell_type": "markdown",
   "metadata": {},
   "source": [
    "<b> AUC: </B> Area under RUC Curve"
   ]
  },
  {
   "cell_type": "code",
   "execution_count": 335,
   "metadata": {},
   "outputs": [
    {
     "name": "stdout",
     "output_type": "stream",
     "text": [
      "TEST | AUC Score: 0.5\n"
     ]
    }
   ],
   "source": [
    "fpr, tpr, thresholds = metrics.roc_curve(np.argmax(test_y, axis =1), np.argmax(y_predicted, axis = 1), pos_label=1)\n",
    "print('TEST | AUC Score: ' + str((metrics.auc(fpr, tpr))))\n"
   ]
  },
  {
   "cell_type": "markdown",
   "metadata": {},
   "source": [
    "F1-score"
   ]
  },
  {
   "cell_type": "code",
   "execution_count": 344,
   "metadata": {},
   "outputs": [
    {
     "name": "stdout",
     "output_type": "stream",
     "text": [
      "0.0\n"
     ]
    }
   ],
   "source": [
    "print(metrics.f1_score(np.argmax(test_y, axis =1), np.argmax(y_predicted, axis = 1)))"
   ]
  },
  {
   "cell_type": "code",
   "execution_count": 348,
   "metadata": {},
   "outputs": [
    {
     "data": {
      "text/plain": [
       "(array([], dtype=int64),)"
      ]
     },
     "execution_count": 348,
     "metadata": {},
     "output_type": "execute_result"
    }
   ],
   "source": [
    "np.where(np.argmax(y_predicted, axis = 1)==1)"
   ]
  },
  {
   "cell_type": "code",
   "execution_count": 351,
   "metadata": {},
   "outputs": [
    {
     "name": "stdout",
     "output_type": "stream",
     "text": [
      "======== Making X and Y Tensors ==========\n",
      "- - - -  X Tensor founded on Drive - - - - \n",
      "- - - -  Reading X TENSOR - - - - \n",
      "Input X by shape: (1754155, 12) is rolled to X Tensor:  (1754145, 10, 12)\n",
      "- - - - Balancing Data - - - -\n"
     ]
    }
   ],
   "source": [
    "pre_processor = PreProcessor(df.iloc[:,:9])\n",
    "train_x, test_x, train_y, test_y = pre_processor.pre_process(selected_features, [\"TX_FRAUD\"],\n",
    "                                                             window_size = 10, \n",
    "                                                             test_train_split = 0.5,\n",
    "                                                             categoricals = [[\"WEEK_DAY\"], [\"TX_FRAUD\"]],\n",
    "                                                             imbalanced = True)"
   ]
  },
  {
   "cell_type": "code",
   "execution_count": 353,
   "metadata": {},
   "outputs": [
    {
     "name": "stdout",
     "output_type": "stream",
     "text": [
      "Model: \"sequential_25\"\n",
      "_________________________________________________________________\n",
      "Layer (type)                 Output Shape              Param #   \n",
      "=================================================================\n",
      "lstm_25 (LSTM)               (None, 10)                920       \n",
      "_________________________________________________________________\n",
      "dropout_24 (Dropout)         (None, 10)                0         \n",
      "_________________________________________________________________\n",
      "dense_25 (Dense)             (None, 2)                 22        \n",
      "=================================================================\n",
      "Total params: 942\n",
      "Trainable params: 942\n",
      "Non-trainable params: 0\n",
      "_________________________________________________________________\n",
      "Model Summary: \n",
      "\n",
      " None\n"
     ]
    }
   ],
   "source": [
    "model2 = LSTM_MODEL(train_x.shape[1:], n_outputs = 2)"
   ]
  },
  {
   "cell_type": "code",
   "execution_count": null,
   "metadata": {},
   "outputs": [
    {
     "name": "stdout",
     "output_type": "stream",
     "text": [
      "Epoch 1/100\n",
      "3427/3427 [==============================] - 210s 60ms/step - loss: 25562.7356 - accuracy: 0.8458\n",
      "Epoch 2/100\n",
      "3427/3427 [==============================] - 204s 60ms/step - loss: 61.8674 - accuracy: 0.9888\n",
      "Epoch 3/100\n",
      "3427/3427 [==============================] - 205s 60ms/step - loss: 4.4144 - accuracy: 0.9887\n",
      "Epoch 4/100\n",
      "3427/3427 [==============================] - 209s 61ms/step - loss: 0.5634 - accuracy: 0.9904\n",
      "Epoch 5/100\n",
      "3427/3427 [==============================] - 209s 61ms/step - loss: 0.3497 - accuracy: 0.9911\n",
      "Epoch 6/100\n",
      "3427/3427 [==============================] - 211s 62ms/step - loss: 0.1726 - accuracy: 0.9915\n",
      "Epoch 7/100\n",
      "3427/3427 [==============================] - 205s 60ms/step - loss: 0.1177 - accuracy: 0.9914\n",
      "Epoch 8/100\n",
      "3427/3427 [==============================] - 203s 59ms/step - loss: 0.0815 - accuracy: 0.9914\n",
      "Epoch 9/100\n",
      "3427/3427 [==============================] - 197s 58ms/step - loss: 0.0616 - accuracy: 0.9915\n",
      "Epoch 10/100\n",
      "3427/3427 [==============================] - 196s 57ms/step - loss: 0.0628 - accuracy: 0.9917\n",
      "Epoch 11/100\n",
      "3427/3427 [==============================] - 198s 58ms/step - loss: 0.0583 - accuracy: 0.9917\n",
      "Epoch 12/100\n",
      "3427/3427 [==============================] - 196s 57ms/step - loss: 0.0654 - accuracy: 0.9916\n",
      "Epoch 13/100\n",
      "3427/3427 [==============================] - 197s 58ms/step - loss: 0.0661 - accuracy: 0.9916\n",
      "Epoch 14/100\n",
      "3427/3427 [==============================] - 199s 58ms/step - loss: 0.0594 - accuracy: 0.9916\n",
      "Epoch 15/100\n",
      "3427/3427 [==============================] - 195s 57ms/step - loss: 0.1039 - accuracy: 0.9917\n",
      "Epoch 17/100\n",
      " 993/3427 [=======>......................] - ETA: 2:10 - loss: 0.0577 - accuracy: 0.9920"
     ]
    },
    {
     "name": "stderr",
     "output_type": "stream",
     "text": [
      "IOPub message rate exceeded.\n",
      "The notebook server will temporarily stop sending output\n",
      "to the client in order to avoid crashing it.\n",
      "To change this limit, set the config variable\n",
      "`--NotebookApp.iopub_msg_rate_limit`.\n",
      "\n",
      "Current values:\n",
      "NotebookApp.iopub_msg_rate_limit=1000.0 (msgs/sec)\n",
      "NotebookApp.rate_limit_window=3.0 (secs)\n",
      "\n"
     ]
    },
    {
     "name": "stdout",
     "output_type": "stream",
     "text": [
      "3427/3427 [==============================] - 191s 56ms/step - loss: 0.0660 - accuracy: 0.9916\n",
      "Epoch 19/100\n",
      " 341/3427 [=>............................] - ETA: 3:05 - loss: 0.0658 - accuracy: 0.9917"
     ]
    },
    {
     "name": "stderr",
     "output_type": "stream",
     "text": [
      "IOPub message rate exceeded.\n",
      "The notebook server will temporarily stop sending output\n",
      "to the client in order to avoid crashing it.\n",
      "To change this limit, set the config variable\n",
      "`--NotebookApp.iopub_msg_rate_limit`.\n",
      "\n",
      "Current values:\n",
      "NotebookApp.iopub_msg_rate_limit=1000.0 (msgs/sec)\n",
      "NotebookApp.rate_limit_window=3.0 (secs)\n",
      "\n"
     ]
    },
    {
     "name": "stdout",
     "output_type": "stream",
     "text": [
      "3427/3427 [==============================] - 191s 56ms/step - loss: 0.0590 - accuracy: 0.9917\n",
      "Epoch 21/100\n",
      " 193/3427 [>.............................] - ETA: 3:04 - loss: 0.5183 - accuracy: 0.9926"
     ]
    },
    {
     "name": "stderr",
     "output_type": "stream",
     "text": [
      "IOPub message rate exceeded.\n",
      "The notebook server will temporarily stop sending output\n",
      "to the client in order to avoid crashing it.\n",
      "To change this limit, set the config variable\n",
      "`--NotebookApp.iopub_msg_rate_limit`.\n",
      "\n",
      "Current values:\n",
      "NotebookApp.iopub_msg_rate_limit=1000.0 (msgs/sec)\n",
      "NotebookApp.rate_limit_window=3.0 (secs)\n",
      "\n"
     ]
    },
    {
     "name": "stdout",
     "output_type": "stream",
     "text": [
      "3427/3427 [==============================] - 210s 61ms/step - loss: 0.1067 - accuracy: 0.9916\n",
      "Epoch 22/100\n",
      "3427/3427 [==============================] - 192s 56ms/step - loss: 0.0658 - accuracy: 0.9916\n",
      "Epoch 23/100\n",
      "   7/3427 [..............................] - ETA: 3:18 - loss: 0.0707 - accuracy: 0.9893"
     ]
    },
    {
     "name": "stderr",
     "output_type": "stream",
     "text": [
      "IOPub message rate exceeded.\n",
      "The notebook server will temporarily stop sending output\n",
      "to the client in order to avoid crashing it.\n",
      "To change this limit, set the config variable\n",
      "`--NotebookApp.iopub_msg_rate_limit`.\n",
      "\n",
      "Current values:\n",
      "NotebookApp.iopub_msg_rate_limit=1000.0 (msgs/sec)\n",
      "NotebookApp.rate_limit_window=3.0 (secs)\n",
      "\n"
     ]
    },
    {
     "name": "stdout",
     "output_type": "stream",
     "text": [
      "3427/3427 [==============================] - 188s 55ms/step - loss: 0.0583 - accuracy: 0.9917\n",
      "Epoch 25/100\n",
      " 861/3427 [======>.......................] - ETA: 2:22 - loss: 0.0610 - accuracy: 0.9916"
     ]
    },
    {
     "name": "stderr",
     "output_type": "stream",
     "text": [
      "IOPub message rate exceeded.\n",
      "The notebook server will temporarily stop sending output\n",
      "to the client in order to avoid crashing it.\n",
      "To change this limit, set the config variable\n",
      "`--NotebookApp.iopub_msg_rate_limit`.\n",
      "\n",
      "Current values:\n",
      "NotebookApp.iopub_msg_rate_limit=1000.0 (msgs/sec)\n",
      "NotebookApp.rate_limit_window=3.0 (secs)\n",
      "\n"
     ]
    },
    {
     "name": "stdout",
     "output_type": "stream",
     "text": [
      "3427/3427 [==============================] - 189s 55ms/step - loss: 0.0624 - accuracy: 0.9916\n",
      "Epoch 27/100\n",
      "1202/3427 [=========>....................] - ETA: 2:06 - loss: 0.0581 - accuracy: 0.9915"
     ]
    },
    {
     "name": "stderr",
     "output_type": "stream",
     "text": [
      "IOPub message rate exceeded.\n",
      "The notebook server will temporarily stop sending output\n",
      "to the client in order to avoid crashing it.\n",
      "To change this limit, set the config variable\n",
      "`--NotebookApp.iopub_msg_rate_limit`.\n",
      "\n",
      "Current values:\n",
      "NotebookApp.iopub_msg_rate_limit=1000.0 (msgs/sec)\n",
      "NotebookApp.rate_limit_window=3.0 (secs)\n",
      "\n"
     ]
    },
    {
     "name": "stdout",
     "output_type": "stream",
     "text": [
      "3427/3427 [==============================] - 191s 56ms/step - loss: 0.0646 - accuracy: 0.9916\n",
      "Epoch 29/100\n",
      "1774/3427 [==============>...............] - ETA: 1:31 - loss: 0.0756 - accuracy: 0.9913"
     ]
    },
    {
     "name": "stderr",
     "output_type": "stream",
     "text": [
      "IOPub message rate exceeded.\n",
      "The notebook server will temporarily stop sending output\n",
      "to the client in order to avoid crashing it.\n",
      "To change this limit, set the config variable\n",
      "`--NotebookApp.iopub_msg_rate_limit`.\n",
      "\n",
      "Current values:\n",
      "NotebookApp.iopub_msg_rate_limit=1000.0 (msgs/sec)\n",
      "NotebookApp.rate_limit_window=3.0 (secs)\n",
      "\n"
     ]
    },
    {
     "name": "stdout",
     "output_type": "stream",
     "text": [
      "3427/3427 [==============================] - 203s 59ms/step - loss: 0.0785 - accuracy: 0.9916\n",
      "Epoch 31/100\n",
      "1703/3427 [=============>................] - ETA: 1:42 - loss: 0.0654 - accuracy: 0.9913"
     ]
    },
    {
     "name": "stderr",
     "output_type": "stream",
     "text": [
      "IOPub message rate exceeded.\n",
      "The notebook server will temporarily stop sending output\n",
      "to the client in order to avoid crashing it.\n",
      "To change this limit, set the config variable\n",
      "`--NotebookApp.iopub_msg_rate_limit`.\n",
      "\n",
      "Current values:\n",
      "NotebookApp.iopub_msg_rate_limit=1000.0 (msgs/sec)\n",
      "NotebookApp.rate_limit_window=3.0 (secs)\n",
      "\n"
     ]
    },
    {
     "name": "stdout",
     "output_type": "stream",
     "text": [
      "3427/3427 [==============================] - 203s 59ms/step - loss: 0.0588 - accuracy: 0.9916\n",
      "Epoch 33/100\n",
      "1683/3427 [=============>................] - ETA: 1:44 - loss: 0.0606 - accuracy: 0.9916"
     ]
    },
    {
     "name": "stderr",
     "output_type": "stream",
     "text": [
      "IOPub message rate exceeded.\n",
      "The notebook server will temporarily stop sending output\n",
      "to the client in order to avoid crashing it.\n",
      "To change this limit, set the config variable\n",
      "`--NotebookApp.iopub_msg_rate_limit`.\n",
      "\n",
      "Current values:\n",
      "NotebookApp.iopub_msg_rate_limit=1000.0 (msgs/sec)\n",
      "NotebookApp.rate_limit_window=3.0 (secs)\n",
      "\n"
     ]
    },
    {
     "name": "stdout",
     "output_type": "stream",
     "text": [
      "3427/3427 [==============================] - 206s 60ms/step - loss: 0.0542 - accuracy: 0.9918\n",
      "Epoch 35/100\n",
      "1672/3427 [=============>................] - ETA: 1:48 - loss: 0.0562 - accuracy: 0.9916"
     ]
    },
    {
     "name": "stderr",
     "output_type": "stream",
     "text": [
      "IOPub message rate exceeded.\n",
      "The notebook server will temporarily stop sending output\n",
      "to the client in order to avoid crashing it.\n",
      "To change this limit, set the config variable\n",
      "`--NotebookApp.iopub_msg_rate_limit`.\n",
      "\n",
      "Current values:\n",
      "NotebookApp.iopub_msg_rate_limit=1000.0 (msgs/sec)\n",
      "NotebookApp.rate_limit_window=3.0 (secs)\n",
      "\n"
     ]
    },
    {
     "name": "stdout",
     "output_type": "stream",
     "text": [
      "3427/3427 [==============================] - 202s 59ms/step - loss: 0.0572 - accuracy: 0.9917\n",
      "Epoch 37/100\n",
      "2232/3427 [==================>...........] - ETA: 1:04 - loss: 0.0544 - accuracy: 0.9915"
     ]
    },
    {
     "name": "stderr",
     "output_type": "stream",
     "text": [
      "IOPub message rate exceeded.\n",
      "The notebook server will temporarily stop sending output\n",
      "to the client in order to avoid crashing it.\n",
      "To change this limit, set the config variable\n",
      "`--NotebookApp.iopub_msg_rate_limit`.\n",
      "\n",
      "Current values:\n",
      "NotebookApp.iopub_msg_rate_limit=1000.0 (msgs/sec)\n",
      "NotebookApp.rate_limit_window=3.0 (secs)\n",
      "\n"
     ]
    },
    {
     "name": "stdout",
     "output_type": "stream",
     "text": [
      "3427/3427 [==============================] - 190s 55ms/step - loss: 0.0668 - accuracy: 0.9915\n",
      "Epoch 39/100\n",
      "3085/3427 [==========================>...] - ETA: 18s - loss: 0.0582 - accuracy: 0.9919"
     ]
    },
    {
     "name": "stderr",
     "output_type": "stream",
     "text": [
      "IOPub message rate exceeded.\n",
      "The notebook server will temporarily stop sending output\n",
      "to the client in order to avoid crashing it.\n",
      "To change this limit, set the config variable\n",
      "`--NotebookApp.iopub_msg_rate_limit`.\n",
      "\n",
      "Current values:\n",
      "NotebookApp.iopub_msg_rate_limit=1000.0 (msgs/sec)\n",
      "NotebookApp.rate_limit_window=3.0 (secs)\n",
      "\n"
     ]
    },
    {
     "name": "stdout",
     "output_type": "stream",
     "text": [
      "3427/3427 [==============================] - ETA: 0s - loss: 0.0587 - accuracy: 0.99 - 202s 59ms/step - loss: 0.0587 - accuracy: 0.9917\n",
      "Epoch 41/100\n",
      "1310/3427 [==========>...................] - ETA: 3:56:46 - loss: 0.0559 - accuracy: 0.9918ETA: 1 - ETA: 31:42 - loss: 0.0552 - ac - ETA: 40:32 - loss: 0.0555 - accuracy: - ETA: 42:08 - loss: 0.0555 - accuracy: 0.9 - ETA: 42:30 - loss: 0.0555 - accuracy: 0. - ETA: 42:58 - loss: 0.0555 - accuracy: 0.991 - ETA: 43:22 - loss: 0.0555 - accuracy: 0.99 - ETA: 44:32 - loss: 0.0555 - accuracy:  - ETA: 47:04 - loss: 0.0555 - accuracy - ETA: 49:39 - loss: 0.0555 - accuracy: 0.99 - ETA: 50:58 - loss: 0.0556 - accuracy: 0.991 - ETA: 51:18 - loss: 0.0556 - accuracy:  - ETA: 55:20 - loss: 0.0 - ETA: 55:20 - loss: 0.0556 - accuracy: 0. - ETA: 57:17 - loss: 0.0556 - accuracy: 0. - ETA: 59:07 - loss: 0.0556 - accuracy: 0.991 - ETA: 59:19 - loss: 0.0556 - accuracy: 0.99 - ETA: 59:46 - loss: 0.0556 - accuracy: 0. - ETA: 1:01:40 - loss: 0.0557 - accuracy: 0.991 - ETA: 1:02:21 - loss: 0.0557 - accuracy: 0.991 - ETA: 1:02:40 - loss: 0.0557 - accuracy: 0.991 - ETA: 1:05:02 - loss: 0.0557 - accu - ETA: 1:16:42 - loss: 0.0557 - accuracy:  - ETA: 1:22:46 - loss: 0.0557 - accuracy: 0.991 - ETA: 1:24:06 - loss: 0.0557 - accuracy: 0. - ETA: 1:27:47 - loss: 0.0557 - accuracy: 0.991 - ETA: 1:27:57 - loss: 0.0557 - accuracy: 0.991 - ETA: 1:29:43 - loss: 0.0557 - accuracy: 0.991 - ETA: 1:30:41 - loss: 0.0557 - accuracy: 0.99 - ETA: 1:32:45 - loss: 0.0557 - accuracy: 0.991 - ETA: 1:33:22 - loss: 0.0557 - accuracy: 0.99 - ETA: 1:36:29 - loss: 0.0557 - accuracy: 0.991 - ETA: 1:38:15 - loss: 0.0557 - accuracy: - ETA: 1:51:29 - loss: 0.0558 - accuracy: 0.99 - ETA: 1:55:05 - loss: 0.0558 - accuracy: 0.991 - ETA: 1:56:34 - loss: 0.0558 - accuracy: 0.991 - ETA: 1:57:19 - loss: 0.0558 - accuracy: 0 - ETA: 2:03:20 - loss: 0.0558 - accuracy: 0 - ETA: 2:06:19 - loss: 0.0558 - accuracy: 0.9 - ETA: 2:12:19 - loss: 0.0558 - accuracy: 0.99 - ETA: 2:17:17 - loss: 0.0558 - accuracy: 0. - ETA: 2:26:13 - loss: 0.0558 - accuracy: 0.991 - ETA: 2:30:15 - loss: 0.0558 - accuracy: 0.991 - ETA: 2:32:09 - loss: 0.0558 - accuracy: 0.991 - ETA: 2:32:33 - loss: 0.0558 - accuracy: 0.991 - ETA: 2:35:20 - loss: 0.0558 - accuracy: 0.991 - ETA: 2:37:41 - loss: 0.0558 - accuracy: 0.991 - ETA: 2:42:51 - loss: 0.0558 - accuracy: 0.991 - ETA: 2:45:46 - loss: 0.0558 - accuracy: 0.991 - ETA: 2:48:58 - loss: 0.0558 - accuracy: 0.99 - ETA: 2:54:52 - loss: 0.0558 - accuracy: 0.99 - ETA: 3:01:04 - loss: 0.0558 - accuracy: 0. - ETA: 3:27:20 - loss: 0.0558 - accuracy: 0.991 - ETA: 3:33:54 - loss: 0.0558 - accuracy: 0.991 - ETA: 3:39:31 - loss: 0.0558 - accuracy: 0.9 - ETA: 3:53:40 - loss: 0.0559 - accuracy: 0.99 - ETA: 4:00:10 - loss: 0.0559 - accuracy: 0.991 - ETA: 4:23:39 - loss: 0.0559 - accuracy: 0.9918"
     ]
    }
   ],
   "source": [
    "train_history2 = model2.train(train_x, train_y, batch_size=256, epochs=100)\n",
    "\n",
    "with open(\"model_train_history.pickle\", 'wb') as file:\n",
    "    pickle.dump(train_history2.history, file)"
   ]
  },
  {
   "cell_type": "code",
   "execution_count": 35,
   "metadata": {},
   "outputs": [],
   "source": [
    "y_predicted2 = model2.predict(test_x)\n",
    "\n",
    "with open(\"model_y_predicted.pickle\", 'wb') as file:\n",
    "    pickle.dump(y_predicted2, file)\n",
    "\n",
    "with open('log.txt', 'a') as log:\n",
    "    log.write(\"ended!\")"
   ]
  },
  {
   "cell_type": "markdown",
   "metadata": {},
   "source": [
    "## Transaction Prediction"
   ]
  },
  {
   "cell_type": "code",
   "execution_count": 72,
   "metadata": {},
   "outputs": [],
   "source": [
    "class LSTM_REGRESSION:\n",
    "    def __init__(self,\n",
    "                 input_shape,\n",
    "                 lstm_units = 80,\n",
    "                 n_outputs = 1):\n",
    "        #Model Layers\n",
    "        self.model = Sequential()\n",
    "        self.model.add(LSTM(lstm_units, input_shape=input_shape, return_sequence = True))#, return_sequences=True))            \n",
    "        self.model.add(Dropout(0.2))\n",
    "        self.model.add(LSTM(lstm_units, return_sequence = True))            \n",
    "        self.model.add(Dropout(0.2))\n",
    "        self.model.add(LSTM(lstm_units))            \n",
    "        self.model.add(Dropout(0.2))\n",
    "        self.model.add(Dense(n_outputs))\n",
    "        \n",
    "        self.model.compile(loss='mse', \n",
    "                           optimizer='adam', \n",
    "                           metrics=['accuracy']) #optimizer='rmsprop'\n",
    "        self.model.build()\n",
    "        print(\"Model Summary: \\n\\n\", self.model.summary())\n",
    "        self.model\n",
    "        \n",
    "    def train(self, train_x, train_y, batch_size = 100, epochs  =1):\n",
    "        result = self.model.fit(train_x,\n",
    "                                train_y, \n",
    "                                batch_size = batch_size, \n",
    "                                epochs = epochs)\n",
    "        return result\n",
    "    def predict(self, test_x):\n",
    "        return self.model.predict(test_x)"
   ]
  },
  {
   "cell_type": "code",
   "execution_count": 79,
   "metadata": {},
   "outputs": [
    {
     "name": "stdout",
     "output_type": "stream",
     "text": [
      "======== Making X and Y Tensors ==========\n",
      "- - - -  X Tensor founded on Drive - - - - \n",
      "- - - -  Reading X TENSOR - - - - \n",
      "Input X by shape: (200, 6) is rolled to X Tensor:  (1754145, 10, 12)\n"
     ]
    }
   ],
   "source": [
    "prep = PreProcessor(df.iloc[:200,:9])\n",
    "train_x, test_x, train_y, test_y = prep.pre_process(selected_features, selected_features)"
   ]
  },
  {
   "cell_type": "code",
   "execution_count": 80,
   "metadata": {},
   "outputs": [
    {
     "data": {
      "text/plain": [
       "array([[1., 0.],\n",
       "       [1., 0.],\n",
       "       [1., 0.],\n",
       "       ...,\n",
       "       [1., 0.],\n",
       "       [1., 0.],\n",
       "       [1., 0.]])"
      ]
     },
     "execution_count": 80,
     "metadata": {},
     "output_type": "execute_result"
    }
   ],
   "source": [
    "train_y"
   ]
  }
 ],
 "metadata": {
  "kernelspec": {
   "display_name": "tensorflow",
   "language": "python",
   "name": "tensorflow"
  },
  "language_info": {
   "codemirror_mode": {
    "name": "ipython",
    "version": 3
   },
   "file_extension": ".py",
   "mimetype": "text/x-python",
   "name": "python",
   "nbconvert_exporter": "python",
   "pygments_lexer": "ipython3",
   "version": "3.8.10"
  }
 },
 "nbformat": 4,
 "nbformat_minor": 4
}
