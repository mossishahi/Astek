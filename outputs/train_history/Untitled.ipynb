{
 "cells": [
  {
   "cell_type": "code",
   "execution_count": 2,
   "id": "38383f1a-8437-4b04-9aea-9c2f19fc0ab3",
   "metadata": {},
   "outputs": [],
   "source": [
    "import joblib"
   ]
  },
  {
   "cell_type": "code",
   "execution_count": 3,
   "id": "b50d3ad8-4278-4216-92b5-d5b2404f36cc",
   "metadata": {},
   "outputs": [],
   "source": [
    "with open(\"./h_LSTM:64-X2Y1.pickle\", \"rb\") as f:\n",
    "    hist = joblib.load(f)"
   ]
  },
  {
   "cell_type": "code",
   "execution_count": 12,
   "id": "ecb28b8a-0e1b-4937-b7b0-24d56afceb09",
   "metadata": {},
   "outputs": [
    {
     "data": {
      "text/plain": [
       "44"
      ]
     },
     "execution_count": 12,
     "metadata": {},
     "output_type": "execute_result"
    }
   ],
   "source": [
    "len(hist['loss'])"
   ]
  },
  {
   "cell_type": "code",
   "execution_count": 15,
   "id": "52a58a71-18cd-4c1d-aeaf-bec7e7116a26",
   "metadata": {},
   "outputs": [
    {
     "data": {
      "text/plain": [
       "[0.44598785042762756,\n",
       " 0.4484800696372986,\n",
       " 0.44946619868278503,\n",
       " 0.4498050808906555,\n",
       " 0.44981247186660767,\n",
       " 0.4498116374015808,\n",
       " 0.449812114238739,\n",
       " 0.4498119652271271,\n",
       " 0.4498119652271271,\n",
       " 0.44981199502944946,\n",
       " 0.44981247186660767,\n",
       " 0.449812114238739,\n",
       " 0.44981178641319275,\n",
       " 0.44981229305267334,\n",
       " 0.44981223344802856,\n",
       " 0.4498119056224823,\n",
       " 0.4498123824596405,\n",
       " 0.44981157779693604,\n",
       " 0.4498111307621002,\n",
       " 0.4498114287853241,\n",
       " 0.4498118758201599,\n",
       " 0.44981199502944946,\n",
       " 0.44981157779693604,\n",
       " 0.4498124420642853,\n",
       " 0.44981205463409424,\n",
       " 0.44981199502944946,\n",
       " 0.4498120844364166,\n",
       " 0.4498114287853241,\n",
       " 0.4498118758201599,\n",
       " 0.44981247186660767,\n",
       " 0.4498116374015808,\n",
       " 0.4498124122619629,\n",
       " 0.4498114585876465,\n",
       " 0.4498113989830017,\n",
       " 0.4498120844364166,\n",
       " 0.44981223344802856,\n",
       " 0.4498116374015808,\n",
       " 0.44981205463409424,\n",
       " 0.44981181621551514,\n",
       " 0.4498114287853241,\n",
       " 0.4498116672039032,\n",
       " 0.44981154799461365,\n",
       " 0.4498125910758972,\n",
       " 0.4498119354248047]"
      ]
     },
     "execution_count": 15,
     "metadata": {},
     "output_type": "execute_result"
    }
   ],
   "source": [
    "hist['mae']"
   ]
  },
  {
   "cell_type": "code",
   "execution_count": 13,
   "id": "f24f7962-e4fa-48c7-af86-94193e6821c0",
   "metadata": {},
   "outputs": [
    {
     "data": {
      "text/plain": [
       "[<matplotlib.lines.Line2D at 0x7f20041d4d60>]"
      ]
     },
     "execution_count": 13,
     "metadata": {},
     "output_type": "execute_result"
    },
    {
     "data": {
      "image/png": "[encoded data removed]",
      "text/plain": [
       "<Figure size 432x288 with 1 Axes>"
      ]
     },
     "metadata": {
      "needs_background": "light"
     },
     "output_type": "display_data"
    }
   ],
   "source": [
    "import matplotlib.pyplot as plt\n",
    "plt.plot(hist['val_loss'])"
   ]
  }
 ],
 "metadata": {
  "kernelspec": {
   "display_name": "Python 3",
   "language": "python",
   "name": "python3"
  },
  "language_info": {
   "codemirror_mode": {
    "name": "ipython",
    "version": 3
   },
   "file_extension": ".py",
   "mimetype": "text/x-python",
   "name": "python",
   "nbconvert_exporter": "python",
   "pygments_lexer": "ipython3",
   "version": "3.8.8"
  }
 },
 "nbformat": 4,
 "nbformat_minor": 5
}
